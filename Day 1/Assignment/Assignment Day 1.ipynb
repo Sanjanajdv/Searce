{
 "cells": [
  {
   "cell_type": "code",
   "execution_count": 15,
   "id": "25936475",
   "metadata": {},
   "outputs": [
    {
     "name": "stdout",
     "output_type": "stream",
     "text": [
      "3\n",
      "545\n",
      "54\n",
      "51\n",
      "[545, 54, 51]\n",
      "Reverse Array : \n",
      "[51, 54, 545]\n"
     ]
    }
   ],
   "source": [
    "q = int(input())\n",
    "p = []\n",
    "for i in range(q):\n",
    "    m = int(input())\n",
    "    p.append(m)\n",
    "print(p)\n",
    "print(\"Reverse Array : \")\n",
    "print(p[::-1])"
   ]
  },
  {
   "cell_type": "code",
   "execution_count": 19,
   "id": "17a7dd4a",
   "metadata": {},
   "outputs": [
    {
     "name": "stdout",
     "output_type": "stream",
     "text": [
      "Alice\n",
      "Chad\n",
      "Debra\n"
     ]
    }
   ],
   "source": [
    "class Node:\n",
    "    def __init__(self, value):\n",
    "        self.value = value\n",
    "        self.next = None\n",
    "class sll:\n",
    "    def __init__(self):\n",
    "        self.head = None\n",
    "        self.tail = None\n",
    "\n",
    "linked_list = sll()\n",
    "linked_list.head = Node('Sanjana')\n",
    "linked_list.head.next = Node('Santosh')\n",
    "linked_list.head.next.next = Node('Jadha')\n",
    "\n",
    "node = linked_list.head\n",
    "while node:\n",
    "    print(node.value)\n",
    "    node = node.next\n"
   ]
  },
  {
   "cell_type": "code",
   "execution_count": null,
   "id": "ed485f3d",
   "metadata": {},
   "outputs": [],
   "source": []
  }
 ],
 "metadata": {
  "kernelspec": {
   "display_name": "Python 3 (ipykernel)",
   "language": "python",
   "name": "python3"
  },
  "language_info": {
   "codemirror_mode": {
    "name": "ipython",
    "version": 3
   },
   "file_extension": ".py",
   "mimetype": "text/x-python",
   "name": "python",
   "nbconvert_exporter": "python",
   "pygments_lexer": "ipython3",
   "version": "3.9.7"
  }
 },
 "nbformat": 4,
 "nbformat_minor": 5
}
