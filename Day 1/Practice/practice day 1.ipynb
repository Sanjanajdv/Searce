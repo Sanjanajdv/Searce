{
 "cells": [
  {
   "cell_type": "code",
   "execution_count": 10,
   "id": "44b1218f",
   "metadata": {},
   "outputs": [
    {
     "name": "stdout",
     "output_type": "stream",
     "text": [
      "array('i', [1, 2, 5, 6, 4])\n",
      "array('i', [1, 2, 5, 6])\n",
      "array('i', [1, 2, 5])\n",
      "array('i', [1, 2])\n",
      "array('i', [1])\n",
      "array('i')\n"
     ]
    }
   ],
   "source": [
    "from array import *\n",
    "arr = array(\"i\",[1,2,5,6,4,7])\n",
    "n = len(arr)\n",
    "for i in range(n):\n",
    "    arr.pop()\n",
    "    print(arr)"
   ]
  },
  {
   "cell_type": "code",
   "execution_count": 14,
   "id": "e25dc9b5",
   "metadata": {},
   "outputs": [
    {
     "name": "stdout",
     "output_type": "stream",
     "text": [
      "array('i', [4, 6, 5, 2, 1])\n",
      "array('i', [6, 5, 2, 1])\n",
      "array('i', [5, 2, 1])\n",
      "array('i', [2, 1])\n",
      "array('i', [1])\n",
      "array('i')\n"
     ]
    }
   ],
   "source": [
    "from array import *\n",
    "arr = array(\"i\",[1,2,5,6,4,7])\n",
    "n = len(arr)\n",
    "for i in range(n):\n",
    "    arr.pop()\n",
    "    print(arr[::-1])"
   ]
  },
  {
   "cell_type": "code",
   "execution_count": 16,
   "id": "7f99242b",
   "metadata": {},
   "outputs": [
    {
     "name": "stdout",
     "output_type": "stream",
     "text": [
      "['1', 'b', '5']\n",
      "Elements popped from stack:\n",
      "5\n",
      "b\n",
      "1\n",
      "Stack after elements are popped:\n",
      "[]\n"
     ]
    }
   ],
   "source": [
    "stack = []\n",
    "stack.append('1')\n",
    "stack.append('b')\n",
    "stack.append('5')\n",
    "print(stack)\n",
    "print('Elements popped from stack:')\n",
    "print(stack.pop())\n",
    "print(stack.pop())\n",
    "print(stack.pop())\n",
    "print('Stack after elements are popped:')\n",
    "print(stack)\n",
    " "
   ]
  },
  {
   "cell_type": "code",
   "execution_count": 28,
   "id": "701cc292",
   "metadata": {},
   "outputs": [
    {
     "name": "stdout",
     "output_type": "stream",
     "text": [
      "5\n",
      "1\n",
      "2\n",
      "8\n",
      "9\n",
      "7\n",
      "Initial queue\n",
      "[1, 2, 8, 9, 7]\n",
      "\n",
      "Elements dequeued from queue\n",
      "1\n",
      "2\n",
      "8\n",
      "\n",
      "Queue after removing elements\n",
      "[9, 7]\n"
     ]
    }
   ],
   "source": [
    "queue = []\n",
    "n = int(input())\n",
    "for i in range(0,n):\n",
    "    m = int(input())\n",
    "    queue.append(m)\n",
    "\n",
    "print(\"Initial queue\")\n",
    "print(queue)\n",
    "print(\"Elements dequeued from queue\")\n",
    "print(queue.pop(0))\n",
    "print(queue.pop(0))\n",
    "print(queue.pop(0))\n",
    " \n",
    "print(\"Queue after removing elements\")\n",
    "print(queue)"
   ]
  },
  {
   "cell_type": "code",
   "execution_count": 46,
   "id": "2d596ec5",
   "metadata": {},
   "outputs": [
    {
     "name": "stdout",
     "output_type": "stream",
     "text": [
      "sun\n",
      "mun\n",
      "gun\n",
      "sun\n",
      "mun\n",
      "gun\n"
     ]
    }
   ],
   "source": [
    "class Node:\n",
    "   def __init__(self, dataval=None):\n",
    "      self.dataval = dataval\n",
    "      self.nextval = None\n",
    "\n",
    "class SLinkedList:\n",
    "   def __init__(self):\n",
    "      self.headval = None\n",
    "   def lprint(self):\n",
    "      printval = self.headval\n",
    "      while printval is not None:\n",
    "         print(printval.dataval)\n",
    "         printval = printval.nextval\n",
    "        \n",
    "l1 = SLinkedList()\n",
    "l1.headval = Node(input())\n",
    "e2 = Node(input())\n",
    "e3 = Node(input())\n",
    "l1.headval.nextval = e2\n",
    "e2.nextval = e3\n",
    "l1.lprint()\n"
   ]
  },
  {
   "cell_type": "code",
   "execution_count": null,
   "id": "98ade3d6",
   "metadata": {},
   "outputs": [],
   "source": []
  },
  {
   "cell_type": "code",
   "execution_count": null,
   "id": "a255cabb",
   "metadata": {},
   "outputs": [],
   "source": []
  }
 ],
 "metadata": {
  "kernelspec": {
   "display_name": "Python 3 (ipykernel)",
   "language": "python",
   "name": "python3"
  },
  "language_info": {
   "codemirror_mode": {
    "name": "ipython",
    "version": 3
   },
   "file_extension": ".py",
   "mimetype": "text/x-python",
   "name": "python",
   "nbconvert_exporter": "python",
   "pygments_lexer": "ipython3",
   "version": "3.9.7"
  }
 },
 "nbformat": 4,
 "nbformat_minor": 5
}
