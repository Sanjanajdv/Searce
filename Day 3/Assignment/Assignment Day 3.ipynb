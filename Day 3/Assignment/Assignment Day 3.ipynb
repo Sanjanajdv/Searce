{
 "cells": [
  {
   "cell_type": "code",
   "execution_count": null,
   "id": "38aefe26",
   "metadata": {},
   "outputs": [],
   "source": [
    "import queue\n",
    "from tempfile import tempdir\n",
    "pre = []\n",
    "last = None\n",
    "cases = int(input())\n",
    "available = queue.PriorityQueue(cases)\n",
    "wait = 0\n",
    "for _ in range(cases):\n",
    "    pre.append([int(x) for x in input().split()])\n",
    "    \n",
    "pre.sort(key = lambda x : x[0] , reverse=True)\n",
    "last = pre.pop()\n",
    "last.append(last[0] + last[1])\n",
    "wait += last[2] - last[0]\n",
    "\n",
    "time = last[2]\n",
    "for _ in range(cases - 1):\n",
    "    while(pre and time >= pre[-1][0]):\n",
    "        node = pre.pop()\n",
    "        available.put((node[1], node))\n",
    "        \n",
    "    if available:\n",
    "        delete = available.get()[1]\n",
    "        delete.append(time + delete[1])\n",
    "        wait += delete[2] - delete[0]\n",
    "        last = delete\n",
    "        \n",
    "    else:\n",
    "        temp = pre.pop()\n",
    "        temp.append(temp[0] + temp[1])\n",
    "        wait += temp[2] - temp[0]\n",
    "        last = temp\n",
    "        \n",
    "    time = last[2]\n",
    "    \n",
    "print(int(wait/cases))\n",
    "        \n",
    "        "
   ]
  },
  {
   "cell_type": "code",
   "execution_count": null,
   "id": "c0bbfe3f",
   "metadata": {},
   "outputs": [],
   "source": []
  }
 ],
 "metadata": {
  "kernelspec": {
   "display_name": "Python 3 (ipykernel)",
   "language": "python",
   "name": "python3"
  },
  "language_info": {
   "codemirror_mode": {
    "name": "ipython",
    "version": 3
   },
   "file_extension": ".py",
   "mimetype": "text/x-python",
   "name": "python",
   "nbconvert_exporter": "python",
   "pygments_lexer": "ipython3",
   "version": "3.9.7"
  }
 },
 "nbformat": 4,
 "nbformat_minor": 5
}
