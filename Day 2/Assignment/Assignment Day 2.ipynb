{
 "cells": [
  {
   "cell_type": "code",
   "execution_count": 19,
   "id": "a7447879",
   "metadata": {},
   "outputs": [
    {
     "name": "stdout",
     "output_type": "stream",
     "text": [
      "10\n",
      "1 97\n",
      "2\n",
      "1 20\n",
      "2\n",
      "1 26\n",
      "1 20\n",
      "2\n",
      "3\n",
      "26\n",
      "1 91\n",
      "3\n",
      "91\n"
     ]
    }
   ],
   "source": [
    "n = int(input())\n",
    "stack = []\n",
    "for i in range(n):\n",
    "    l = input()\n",
    "    q = l[0]\n",
    "    if q == '1':\n",
    "        val = int(l[2:])\n",
    "        if len(stack) == 0:\n",
    "            stack.append(val)\n",
    "        else:\n",
    "            c = stack[-1]\n",
    "            stack.append(val if val > c else c)\n",
    "            \n",
    "    elif q == '2':\n",
    "        stack.pop()\n",
    "    else:\n",
    "        print(stack[-1])\n",
    "    "
   ]
  },
  {
   "cell_type": "code",
   "execution_count": null,
   "id": "8413b479",
   "metadata": {},
   "outputs": [],
   "source": []
  }
 ],
 "metadata": {
  "kernelspec": {
   "display_name": "Python 3 (ipykernel)",
   "language": "python",
   "name": "python3"
  },
  "language_info": {
   "codemirror_mode": {
    "name": "ipython",
    "version": 3
   },
   "file_extension": ".py",
   "mimetype": "text/x-python",
   "name": "python",
   "nbconvert_exporter": "python",
   "pygments_lexer": "ipython3",
   "version": "3.9.7"
  }
 },
 "nbformat": 4,
 "nbformat_minor": 5
}
